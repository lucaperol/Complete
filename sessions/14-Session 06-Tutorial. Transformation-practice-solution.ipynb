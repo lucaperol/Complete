{
 "cells": [
  {
   "cell_type": "markdown",
   "metadata": {},
   "source": [
    "# Session 06 - Tutorial. Data Transformation in Pandas"
   ]
  },
  {
   "cell_type": "markdown",
   "metadata": {},
   "source": [
    "# 1. Let's load some libraries"
   ]
  },
  {
   "cell_type": "code",
   "execution_count": 2,
   "metadata": {},
   "outputs": [],
   "source": [
    "import pandas as pd\n",
    "import seaborn as sns"
   ]
  },
  {
   "cell_type": "markdown",
   "metadata": {},
   "source": [
    "# 2. Let's load and concatenate some datasets"
   ]
  },
  {
   "cell_type": "code",
   "execution_count": 3,
   "metadata": {},
   "outputs": [],
   "source": [
    "# similar to reading data from csv file, we can read data from excel sheets, we need to specify which column we need to read data from\n",
    "# this data is a sample from comercial software Tableau\n",
    "order_df=pd.read_csv('https://raw.githubusercontent.com/mosleh-exeter/BEM1025/main/sessions/Superstore.csv')\n",
    "\n",
    "selected_columns=['Order ID', 'Order Date', 'Product ID','Segment', 'Region','Category','variable','value']\n",
    "\n",
    "order_df_selected=order_df[selected_columns]\n",
    "# or similarly you can do\n",
    "order_df_selected2=pd.DataFrame(order_df,columns=selected_columns)\n"
   ]
  },
  {
   "cell_type": "code",
   "execution_count": 4,
   "metadata": {},
   "outputs": [
    {
     "data": {
      "text/html": [
       "<div>\n",
       "<style scoped>\n",
       "    .dataframe tbody tr th:only-of-type {\n",
       "        vertical-align: middle;\n",
       "    }\n",
       "\n",
       "    .dataframe tbody tr th {\n",
       "        vertical-align: top;\n",
       "    }\n",
       "\n",
       "    .dataframe thead th {\n",
       "        text-align: right;\n",
       "    }\n",
       "</style>\n",
       "<table border=\"1\" class=\"dataframe\">\n",
       "  <thead>\n",
       "    <tr style=\"text-align: right;\">\n",
       "      <th></th>\n",
       "      <th>Order ID</th>\n",
       "      <th>Order Date</th>\n",
       "      <th>Product ID</th>\n",
       "      <th>Segment</th>\n",
       "      <th>Region</th>\n",
       "      <th>Category</th>\n",
       "      <th>variable</th>\n",
       "      <th>value</th>\n",
       "    </tr>\n",
       "  </thead>\n",
       "  <tbody>\n",
       "    <tr>\n",
       "      <th>0</th>\n",
       "      <td>CA-2013-152156</td>\n",
       "      <td>2013-11-09 00:00:00</td>\n",
       "      <td>FUR-BO-10001798</td>\n",
       "      <td>Consumer</td>\n",
       "      <td>South</td>\n",
       "      <td>Furniture</td>\n",
       "      <td>Sales</td>\n",
       "      <td>261.9600</td>\n",
       "    </tr>\n",
       "    <tr>\n",
       "      <th>1</th>\n",
       "      <td>CA-2013-152156</td>\n",
       "      <td>2013-11-09 00:00:00</td>\n",
       "      <td>FUR-CH-10000454</td>\n",
       "      <td>Consumer</td>\n",
       "      <td>South</td>\n",
       "      <td>Furniture</td>\n",
       "      <td>Sales</td>\n",
       "      <td>731.9400</td>\n",
       "    </tr>\n",
       "    <tr>\n",
       "      <th>2</th>\n",
       "      <td>CA-2013-138688</td>\n",
       "      <td>2013-06-13 00:00:00</td>\n",
       "      <td>OFF-LA-10000240</td>\n",
       "      <td>Corporate</td>\n",
       "      <td>West</td>\n",
       "      <td>Office Supplies</td>\n",
       "      <td>Sales</td>\n",
       "      <td>14.6200</td>\n",
       "    </tr>\n",
       "    <tr>\n",
       "      <th>3</th>\n",
       "      <td>US-2012-108966</td>\n",
       "      <td>2012-10-11 00:00:00</td>\n",
       "      <td>FUR-TA-10000577</td>\n",
       "      <td>Consumer</td>\n",
       "      <td>South</td>\n",
       "      <td>Furniture</td>\n",
       "      <td>Sales</td>\n",
       "      <td>957.5775</td>\n",
       "    </tr>\n",
       "    <tr>\n",
       "      <th>4</th>\n",
       "      <td>US-2012-108966</td>\n",
       "      <td>2012-10-11 00:00:00</td>\n",
       "      <td>OFF-ST-10000760</td>\n",
       "      <td>Consumer</td>\n",
       "      <td>South</td>\n",
       "      <td>Office Supplies</td>\n",
       "      <td>Sales</td>\n",
       "      <td>22.3680</td>\n",
       "    </tr>\n",
       "  </tbody>\n",
       "</table>\n",
       "</div>"
      ],
      "text/plain": [
       "         Order ID           Order Date       Product ID    Segment Region  \\\n",
       "0  CA-2013-152156  2013-11-09 00:00:00  FUR-BO-10001798   Consumer  South   \n",
       "1  CA-2013-152156  2013-11-09 00:00:00  FUR-CH-10000454   Consumer  South   \n",
       "2  CA-2013-138688  2013-06-13 00:00:00  OFF-LA-10000240  Corporate   West   \n",
       "3  US-2012-108966  2012-10-11 00:00:00  FUR-TA-10000577   Consumer  South   \n",
       "4  US-2012-108966  2012-10-11 00:00:00  OFF-ST-10000760   Consumer  South   \n",
       "\n",
       "          Category variable     value  \n",
       "0        Furniture    Sales  261.9600  \n",
       "1        Furniture    Sales  731.9400  \n",
       "2  Office Supplies    Sales   14.6200  \n",
       "3        Furniture    Sales  957.5775  \n",
       "4  Office Supplies    Sales   22.3680  "
      ]
     },
     "execution_count": 4,
     "metadata": {},
     "output_type": "execute_result"
    }
   ],
   "source": [
    "order_df_selected.head()"
   ]
  },
  {
   "cell_type": "code",
   "execution_count": 5,
   "metadata": {},
   "outputs": [
    {
     "data": {
      "text/plain": [
       "array(['Sales', 'Quantity', 'Discount', 'Profit'], dtype=object)"
      ]
     },
     "execution_count": 5,
     "metadata": {},
     "output_type": "execute_result"
    }
   ],
   "source": [
    "order_df_selected['variable'].unique()"
   ]
  },
  {
   "cell_type": "markdown",
   "metadata": {},
   "source": [
    "### Task 1. Your manager wants a report in form of a table where you show average value of different 'variable' (\"Sales\", \"Quantity\", and \"Profit\") for each segment\n",
    "\n",
    "### Like the following table\n"
   ]
  },
  {
   "cell_type": "markdown",
   "metadata": {},
   "source": [
    "<img src=\"https://www.dropbox.com/s/5v7pb18cusx77cy/Screenshot%202022-03-04%20at%2019.26.55.png?dl=1\">\n"
   ]
  },
  {
   "cell_type": "markdown",
   "metadata": {
    "tags": []
   },
   "source": [
    "### Task 1.1 Create a dataframe where you have a column for each 'variable' namely \"Sales\", \"Quantity\", \"Discount\" and \"Profit\" \n"
   ]
  },
  {
   "cell_type": "code",
   "execution_count": 6,
   "metadata": {},
   "outputs": [
    {
     "data": {
      "text/html": [
       "<div>\n",
       "<style scoped>\n",
       "    .dataframe tbody tr th:only-of-type {\n",
       "        vertical-align: middle;\n",
       "    }\n",
       "\n",
       "    .dataframe tbody tr th {\n",
       "        vertical-align: top;\n",
       "    }\n",
       "\n",
       "    .dataframe thead th {\n",
       "        text-align: right;\n",
       "    }\n",
       "</style>\n",
       "<table border=\"1\" class=\"dataframe\">\n",
       "  <thead>\n",
       "    <tr style=\"text-align: right;\">\n",
       "      <th>variable</th>\n",
       "      <th>Order ID</th>\n",
       "      <th>Order Date</th>\n",
       "      <th>Product ID</th>\n",
       "      <th>Segment</th>\n",
       "      <th>Region</th>\n",
       "      <th>Category</th>\n",
       "      <th>Discount</th>\n",
       "      <th>Profit</th>\n",
       "      <th>Quantity</th>\n",
       "      <th>Sales</th>\n",
       "    </tr>\n",
       "  </thead>\n",
       "  <tbody>\n",
       "    <tr>\n",
       "      <th>0</th>\n",
       "      <td>CA-2011-100006</td>\n",
       "      <td>2011-09-07 00:00:00</td>\n",
       "      <td>TEC-PH-10002075</td>\n",
       "      <td>Consumer</td>\n",
       "      <td>East</td>\n",
       "      <td>Technology</td>\n",
       "      <td>0.0</td>\n",
       "      <td>109.6113</td>\n",
       "      <td>3.0</td>\n",
       "      <td>377.970</td>\n",
       "    </tr>\n",
       "    <tr>\n",
       "      <th>1</th>\n",
       "      <td>CA-2011-100090</td>\n",
       "      <td>2011-07-08 00:00:00</td>\n",
       "      <td>FUR-TA-10003715</td>\n",
       "      <td>Corporate</td>\n",
       "      <td>West</td>\n",
       "      <td>Furniture</td>\n",
       "      <td>0.2</td>\n",
       "      <td>-87.9354</td>\n",
       "      <td>3.0</td>\n",
       "      <td>502.488</td>\n",
       "    </tr>\n",
       "    <tr>\n",
       "      <th>2</th>\n",
       "      <td>CA-2011-100090</td>\n",
       "      <td>2011-07-08 00:00:00</td>\n",
       "      <td>OFF-BI-10001597</td>\n",
       "      <td>Corporate</td>\n",
       "      <td>West</td>\n",
       "      <td>Office Supplies</td>\n",
       "      <td>0.2</td>\n",
       "      <td>68.8464</td>\n",
       "      <td>6.0</td>\n",
       "      <td>196.704</td>\n",
       "    </tr>\n",
       "    <tr>\n",
       "      <th>3</th>\n",
       "      <td>CA-2011-100293</td>\n",
       "      <td>2011-03-14 00:00:00</td>\n",
       "      <td>OFF-PA-10000176</td>\n",
       "      <td>Home Office</td>\n",
       "      <td>South</td>\n",
       "      <td>Office Supplies</td>\n",
       "      <td>0.2</td>\n",
       "      <td>31.8696</td>\n",
       "      <td>6.0</td>\n",
       "      <td>91.056</td>\n",
       "    </tr>\n",
       "    <tr>\n",
       "      <th>4</th>\n",
       "      <td>CA-2011-100328</td>\n",
       "      <td>2011-01-29 00:00:00</td>\n",
       "      <td>OFF-BI-10000343</td>\n",
       "      <td>Consumer</td>\n",
       "      <td>East</td>\n",
       "      <td>Office Supplies</td>\n",
       "      <td>0.2</td>\n",
       "      <td>1.3257</td>\n",
       "      <td>1.0</td>\n",
       "      <td>3.928</td>\n",
       "    </tr>\n",
       "    <tr>\n",
       "      <th>...</th>\n",
       "      <td>...</td>\n",
       "      <td>...</td>\n",
       "      <td>...</td>\n",
       "      <td>...</td>\n",
       "      <td>...</td>\n",
       "      <td>...</td>\n",
       "      <td>...</td>\n",
       "      <td>...</td>\n",
       "      <td>...</td>\n",
       "      <td>...</td>\n",
       "    </tr>\n",
       "    <tr>\n",
       "      <th>9981</th>\n",
       "      <td>US-2014-169551</td>\n",
       "      <td>2014-07-08 00:00:00</td>\n",
       "      <td>OFF-PA-10004100</td>\n",
       "      <td>Consumer</td>\n",
       "      <td>East</td>\n",
       "      <td>Office Supplies</td>\n",
       "      <td>0.2</td>\n",
       "      <td>5.4432</td>\n",
       "      <td>3.0</td>\n",
       "      <td>15.552</td>\n",
       "    </tr>\n",
       "    <tr>\n",
       "      <th>9982</th>\n",
       "      <td>US-2014-169551</td>\n",
       "      <td>2014-07-08 00:00:00</td>\n",
       "      <td>OFF-ST-10004835</td>\n",
       "      <td>Consumer</td>\n",
       "      <td>East</td>\n",
       "      <td>Office Supplies</td>\n",
       "      <td>0.2</td>\n",
       "      <td>1.0044</td>\n",
       "      <td>3.0</td>\n",
       "      <td>13.392</td>\n",
       "    </tr>\n",
       "    <tr>\n",
       "      <th>9983</th>\n",
       "      <td>US-2014-169551</td>\n",
       "      <td>2014-07-08 00:00:00</td>\n",
       "      <td>TEC-AC-10002018</td>\n",
       "      <td>Consumer</td>\n",
       "      <td>East</td>\n",
       "      <td>Technology</td>\n",
       "      <td>0.2</td>\n",
       "      <td>4.8231</td>\n",
       "      <td>3.0</td>\n",
       "      <td>16.776</td>\n",
       "    </tr>\n",
       "    <tr>\n",
       "      <th>9984</th>\n",
       "      <td>US-2014-169551</td>\n",
       "      <td>2014-07-08 00:00:00</td>\n",
       "      <td>TEC-AC-10003033</td>\n",
       "      <td>Consumer</td>\n",
       "      <td>East</td>\n",
       "      <td>Technology</td>\n",
       "      <td>0.2</td>\n",
       "      <td>85.7870</td>\n",
       "      <td>2.0</td>\n",
       "      <td>527.920</td>\n",
       "    </tr>\n",
       "    <tr>\n",
       "      <th>9985</th>\n",
       "      <td>US-2014-169551</td>\n",
       "      <td>2014-07-08 00:00:00</td>\n",
       "      <td>TEC-PH-10001363</td>\n",
       "      <td>Consumer</td>\n",
       "      <td>East</td>\n",
       "      <td>Technology</td>\n",
       "      <td>0.4</td>\n",
       "      <td>-113.9980</td>\n",
       "      <td>2.0</td>\n",
       "      <td>683.988</td>\n",
       "    </tr>\n",
       "  </tbody>\n",
       "</table>\n",
       "<p>9986 rows × 10 columns</p>\n",
       "</div>"
      ],
      "text/plain": [
       "variable        Order ID           Order Date       Product ID      Segment  \\\n",
       "0         CA-2011-100006  2011-09-07 00:00:00  TEC-PH-10002075     Consumer   \n",
       "1         CA-2011-100090  2011-07-08 00:00:00  FUR-TA-10003715    Corporate   \n",
       "2         CA-2011-100090  2011-07-08 00:00:00  OFF-BI-10001597    Corporate   \n",
       "3         CA-2011-100293  2011-03-14 00:00:00  OFF-PA-10000176  Home Office   \n",
       "4         CA-2011-100328  2011-01-29 00:00:00  OFF-BI-10000343     Consumer   \n",
       "...                  ...                  ...              ...          ...   \n",
       "9981      US-2014-169551  2014-07-08 00:00:00  OFF-PA-10004100     Consumer   \n",
       "9982      US-2014-169551  2014-07-08 00:00:00  OFF-ST-10004835     Consumer   \n",
       "9983      US-2014-169551  2014-07-08 00:00:00  TEC-AC-10002018     Consumer   \n",
       "9984      US-2014-169551  2014-07-08 00:00:00  TEC-AC-10003033     Consumer   \n",
       "9985      US-2014-169551  2014-07-08 00:00:00  TEC-PH-10001363     Consumer   \n",
       "\n",
       "variable Region         Category  Discount    Profit  Quantity    Sales  \n",
       "0          East       Technology       0.0  109.6113       3.0  377.970  \n",
       "1          West        Furniture       0.2  -87.9354       3.0  502.488  \n",
       "2          West  Office Supplies       0.2   68.8464       6.0  196.704  \n",
       "3         South  Office Supplies       0.2   31.8696       6.0   91.056  \n",
       "4          East  Office Supplies       0.2    1.3257       1.0    3.928  \n",
       "...         ...              ...       ...       ...       ...      ...  \n",
       "9981       East  Office Supplies       0.2    5.4432       3.0   15.552  \n",
       "9982       East  Office Supplies       0.2    1.0044       3.0   13.392  \n",
       "9983       East       Technology       0.2    4.8231       3.0   16.776  \n",
       "9984       East       Technology       0.2   85.7870       2.0  527.920  \n",
       "9985       East       Technology       0.4 -113.9980       2.0  683.988  \n",
       "\n",
       "[9986 rows x 10 columns]"
      ]
     },
     "execution_count": 6,
     "metadata": {},
     "output_type": "execute_result"
    }
   ],
   "source": [
    "#we transform the data from a long format to a wide format\n",
    "order_df_pivoted=order_df_selected.pivot_table(index=['Order ID','Order Date','Product ID','Segment','Region','Category'],\n",
    "                             columns='variable',\n",
    "                             values='value')\n",
    "#we then reset the index such that it starts from zero\n",
    "order_df_pivoted=order_df_pivoted.reset_index()\n",
    "order_df_pivoted"
   ]
  },
  {
   "cell_type": "markdown",
   "metadata": {
    "tags": []
   },
   "source": [
    "### Task 1.2 Calculate the average value for'variable' namely \"Sales\", \"Quantity\", \"D\" and \"Profit\""
   ]
  },
  {
   "cell_type": "code",
   "execution_count": 7,
   "metadata": {},
   "outputs": [
    {
     "data": {
      "text/html": [
       "<div>\n",
       "<style scoped>\n",
       "    .dataframe tbody tr th:only-of-type {\n",
       "        vertical-align: middle;\n",
       "    }\n",
       "\n",
       "    .dataframe tbody tr th {\n",
       "        vertical-align: top;\n",
       "    }\n",
       "\n",
       "    .dataframe thead th {\n",
       "        text-align: right;\n",
       "    }\n",
       "</style>\n",
       "<table border=\"1\" class=\"dataframe\">\n",
       "  <thead>\n",
       "    <tr style=\"text-align: right;\">\n",
       "      <th>variable</th>\n",
       "      <th>Discount</th>\n",
       "      <th>Profit</th>\n",
       "      <th>Quantity</th>\n",
       "      <th>Sales</th>\n",
       "    </tr>\n",
       "    <tr>\n",
       "      <th>Segment</th>\n",
       "      <th></th>\n",
       "      <th></th>\n",
       "      <th></th>\n",
       "      <th></th>\n",
       "    </tr>\n",
       "  </thead>\n",
       "  <tbody>\n",
       "    <tr>\n",
       "      <th>Consumer</th>\n",
       "      <td>0.158163</td>\n",
       "      <td>25.820451</td>\n",
       "      <td>3.759780</td>\n",
       "      <td>223.719836</td>\n",
       "    </tr>\n",
       "    <tr>\n",
       "      <th>Corporate</th>\n",
       "      <td>0.158281</td>\n",
       "      <td>30.362171</td>\n",
       "      <td>3.842994</td>\n",
       "      <td>233.540115</td>\n",
       "    </tr>\n",
       "    <tr>\n",
       "      <th>Home Office</th>\n",
       "      <td>0.147261</td>\n",
       "      <td>33.797467</td>\n",
       "      <td>3.778121</td>\n",
       "      <td>241.107587</td>\n",
       "    </tr>\n",
       "  </tbody>\n",
       "</table>\n",
       "</div>"
      ],
      "text/plain": [
       "variable     Discount     Profit  Quantity       Sales\n",
       "Segment                                               \n",
       "Consumer     0.158163  25.820451  3.759780  223.719836\n",
       "Corporate    0.158281  30.362171  3.842994  233.540115\n",
       "Home Office  0.147261  33.797467  3.778121  241.107587"
      ]
     },
     "execution_count": 7,
     "metadata": {},
     "output_type": "execute_result"
    }
   ],
   "source": [
    "order_df_pivoted.groupby(['Segment']).mean()"
   ]
  },
  {
   "cell_type": "markdown",
   "metadata": {},
   "source": [
    "### Challenge yourself: Think about other approaches to create the same outcome:"
   ]
  },
  {
   "cell_type": "code",
   "execution_count": null,
   "metadata": {},
   "outputs": [],
   "source": []
  },
  {
   "cell_type": "markdown",
   "metadata": {},
   "source": [
    "### Task 2. Provide the minimum, maximum, and average for Discount for combinations of Regions and Segments"
   ]
  },
  {
   "cell_type": "markdown",
   "metadata": {},
   "source": [
    "<img src=\"https://www.dropbox.com/s/rokpmkac1qsnt05/Screenshot%202022-03-04%20at%2019.29.27.png?dl=1\">\n",
    "\n"
   ]
  },
  {
   "cell_type": "code",
   "execution_count": 40,
   "metadata": {},
   "outputs": [
    {
     "data": {
      "text/html": [
       "<div>\n",
       "<style scoped>\n",
       "    .dataframe tbody tr th:only-of-type {\n",
       "        vertical-align: middle;\n",
       "    }\n",
       "\n",
       "    .dataframe tbody tr th {\n",
       "        vertical-align: top;\n",
       "    }\n",
       "\n",
       "    .dataframe thead th {\n",
       "        text-align: right;\n",
       "    }\n",
       "</style>\n",
       "<table border=\"1\" class=\"dataframe\">\n",
       "  <thead>\n",
       "    <tr style=\"text-align: right;\">\n",
       "      <th></th>\n",
       "      <th></th>\n",
       "      <th>min</th>\n",
       "      <th>max</th>\n",
       "      <th>mean</th>\n",
       "    </tr>\n",
       "    <tr>\n",
       "      <th>Region</th>\n",
       "      <th>Segment</th>\n",
       "      <th></th>\n",
       "      <th></th>\n",
       "      <th></th>\n",
       "    </tr>\n",
       "  </thead>\n",
       "  <tbody>\n",
       "    <tr>\n",
       "      <th rowspan=\"3\" valign=\"top\">Central</th>\n",
       "      <th>Consumer</th>\n",
       "      <td>0.0</td>\n",
       "      <td>0.8</td>\n",
       "      <td>0.252030</td>\n",
       "    </tr>\n",
       "    <tr>\n",
       "      <th>Corporate</th>\n",
       "      <td>0.0</td>\n",
       "      <td>0.8</td>\n",
       "      <td>0.239822</td>\n",
       "    </tr>\n",
       "    <tr>\n",
       "      <th>Home Office</th>\n",
       "      <td>0.0</td>\n",
       "      <td>0.8</td>\n",
       "      <td>0.208858</td>\n",
       "    </tr>\n",
       "    <tr>\n",
       "      <th rowspan=\"3\" valign=\"top\">East</th>\n",
       "      <th>Consumer</th>\n",
       "      <td>0.0</td>\n",
       "      <td>0.7</td>\n",
       "      <td>0.147447</td>\n",
       "    </tr>\n",
       "    <tr>\n",
       "      <th>Corporate</th>\n",
       "      <td>0.0</td>\n",
       "      <td>0.7</td>\n",
       "      <td>0.144521</td>\n",
       "    </tr>\n",
       "    <tr>\n",
       "      <th>Home Office</th>\n",
       "      <td>0.0</td>\n",
       "      <td>0.7</td>\n",
       "      <td>0.141000</td>\n",
       "    </tr>\n",
       "    <tr>\n",
       "      <th rowspan=\"3\" valign=\"top\">South</th>\n",
       "      <th>Consumer</th>\n",
       "      <td>0.0</td>\n",
       "      <td>0.7</td>\n",
       "      <td>0.142294</td>\n",
       "    </tr>\n",
       "    <tr>\n",
       "      <th>Corporate</th>\n",
       "      <td>0.0</td>\n",
       "      <td>0.7</td>\n",
       "      <td>0.157745</td>\n",
       "    </tr>\n",
       "    <tr>\n",
       "      <th>Home Office</th>\n",
       "      <td>0.0</td>\n",
       "      <td>0.7</td>\n",
       "      <td>0.144238</td>\n",
       "    </tr>\n",
       "    <tr>\n",
       "      <th rowspan=\"3\" valign=\"top\">West</th>\n",
       "      <th>Consumer</th>\n",
       "      <td>0.0</td>\n",
       "      <td>0.7</td>\n",
       "      <td>0.107451</td>\n",
       "    </tr>\n",
       "    <tr>\n",
       "      <th>Corporate</th>\n",
       "      <td>0.0</td>\n",
       "      <td>0.7</td>\n",
       "      <td>0.113958</td>\n",
       "    </tr>\n",
       "    <tr>\n",
       "      <th>Home Office</th>\n",
       "      <td>0.0</td>\n",
       "      <td>0.7</td>\n",
       "      <td>0.106918</td>\n",
       "    </tr>\n",
       "  </tbody>\n",
       "</table>\n",
       "</div>"
      ],
      "text/plain": [
       "                     min  max      mean\n",
       "Region  Segment                        \n",
       "Central Consumer     0.0  0.8  0.252030\n",
       "        Corporate    0.0  0.8  0.239822\n",
       "        Home Office  0.0  0.8  0.208858\n",
       "East    Consumer     0.0  0.7  0.147447\n",
       "        Corporate    0.0  0.7  0.144521\n",
       "        Home Office  0.0  0.7  0.141000\n",
       "South   Consumer     0.0  0.7  0.142294\n",
       "        Corporate    0.0  0.7  0.157745\n",
       "        Home Office  0.0  0.7  0.144238\n",
       "West    Consumer     0.0  0.7  0.107451\n",
       "        Corporate    0.0  0.7  0.113958\n",
       "        Home Office  0.0  0.7  0.106918"
      ]
     },
     "execution_count": 40,
     "metadata": {},
     "output_type": "execute_result"
    }
   ],
   "source": [
    "order_df_pivoted.groupby(['Region','Segment'])['Discount'].agg(['min','max','mean'])"
   ]
  },
  {
   "cell_type": "markdown",
   "metadata": {},
   "source": [
    "### Task 3. Your managers needs a graph for variation of Sales, Profit, Quantity, and Sales over different months"
   ]
  },
  {
   "cell_type": "markdown",
   "metadata": {},
   "source": [
    "\n",
    "\n",
    "<img src=\"https://www.dropbox.com/s/j2j0bfynpnfxw3c/Screenshot%202022-03-04%20at%2019.55.50.png?dl=1\">"
   ]
  },
  {
   "cell_type": "markdown",
   "metadata": {},
   "source": [
    "### Task 3.1 Convert 'Order Date' to a datetime column"
   ]
  },
  {
   "cell_type": "code",
   "execution_count": 41,
   "metadata": {},
   "outputs": [],
   "source": [
    "order_df_pivoted['date_formated']=pd.to_datetime(order_df_pivoted['Order Date'])\n"
   ]
  },
  {
   "cell_type": "markdown",
   "metadata": {},
   "source": [
    "### Task 3.2 Find the average value for each month for Sales, Profit, Quantity, and Sales over different months"
   ]
  },
  {
   "cell_type": "code",
   "execution_count": 46,
   "metadata": {},
   "outputs": [
    {
     "data": {
      "text/html": [
       "<div>\n",
       "<style scoped>\n",
       "    .dataframe tbody tr th:only-of-type {\n",
       "        vertical-align: middle;\n",
       "    }\n",
       "\n",
       "    .dataframe tbody tr th {\n",
       "        vertical-align: top;\n",
       "    }\n",
       "\n",
       "    .dataframe thead th {\n",
       "        text-align: right;\n",
       "    }\n",
       "</style>\n",
       "<table border=\"1\" class=\"dataframe\">\n",
       "  <thead>\n",
       "    <tr style=\"text-align: right;\">\n",
       "      <th>variable</th>\n",
       "      <th>Discount</th>\n",
       "      <th>Profit</th>\n",
       "      <th>Quantity</th>\n",
       "      <th>Sales</th>\n",
       "    </tr>\n",
       "    <tr>\n",
       "      <th>date_formated</th>\n",
       "      <th></th>\n",
       "      <th></th>\n",
       "      <th></th>\n",
       "      <th></th>\n",
       "    </tr>\n",
       "  </thead>\n",
       "  <tbody>\n",
       "    <tr>\n",
       "      <th>2011-01-31</th>\n",
       "      <td>0.126282</td>\n",
       "      <td>31.368860</td>\n",
       "      <td>3.615385</td>\n",
       "      <td>178.797808</td>\n",
       "    </tr>\n",
       "    <tr>\n",
       "      <th>2011-02-28</th>\n",
       "      <td>0.175532</td>\n",
       "      <td>18.419745</td>\n",
       "      <td>3.425532</td>\n",
       "      <td>102.352298</td>\n",
       "    </tr>\n",
       "    <tr>\n",
       "      <th>2011-03-31</th>\n",
       "      <td>0.167516</td>\n",
       "      <td>3.176624</td>\n",
       "      <td>3.726115</td>\n",
       "      <td>354.719803</td>\n",
       "    </tr>\n",
       "    <tr>\n",
       "      <th>2011-04-30</th>\n",
       "      <td>0.108582</td>\n",
       "      <td>26.126075</td>\n",
       "      <td>3.985075</td>\n",
       "      <td>209.059500</td>\n",
       "    </tr>\n",
       "    <tr>\n",
       "      <th>2011-05-31</th>\n",
       "      <td>0.155328</td>\n",
       "      <td>22.448439</td>\n",
       "      <td>3.819672</td>\n",
       "      <td>193.838418</td>\n",
       "    </tr>\n",
       "  </tbody>\n",
       "</table>\n",
       "</div>"
      ],
      "text/plain": [
       "variable       Discount     Profit  Quantity       Sales\n",
       "date_formated                                           \n",
       "2011-01-31     0.126282  31.368860  3.615385  178.797808\n",
       "2011-02-28     0.175532  18.419745  3.425532  102.352298\n",
       "2011-03-31     0.167516   3.176624  3.726115  354.719803\n",
       "2011-04-30     0.108582  26.126075  3.985075  209.059500\n",
       "2011-05-31     0.155328  22.448439  3.819672  193.838418"
      ]
     },
     "execution_count": 46,
     "metadata": {},
     "output_type": "execute_result"
    }
   ],
   "source": [
    "month_avg=order_df_pivoted.groupby(pd.Grouper(key='date_formated',freq='m')).mean()\n",
    "month_avg.head()"
   ]
  },
  {
   "cell_type": "markdown",
   "metadata": {},
   "source": [
    "### Task 3.3 Plot the average value for each month for Sales, Profit, Quantity, and Sales over different months"
   ]
  },
  {
   "cell_type": "code",
   "execution_count": 49,
   "metadata": {},
   "outputs": [
    {
     "data": {
      "text/plain": [
       "<AxesSubplot:xlabel='date_formated'>"
      ]
     },
     "execution_count": 49,
     "metadata": {},
     "output_type": "execute_result"
    },
    {
     "data": {
      "image/png": "[encoded data removed]",
      "text/plain": [
       "<Figure size 432x288 with 1 Axes>"
      ]
     },
     "metadata": {
      "needs_background": "light"
     },
     "output_type": "display_data"
    }
   ],
   "source": [
    "sns.lineplot(data=month_avg)"
   ]
  },
  {
   "cell_type": "markdown",
   "metadata": {},
   "source": [
    "### Challenge yourself: Think about other approaches to create the same outcome:"
   ]
  },
  {
   "cell_type": "code",
   "execution_count": null,
   "metadata": {},
   "outputs": [],
   "source": []
  }
 ],
 "metadata": {
  "kernelspec": {
   "display_name": "cdc",
   "language": "python",
   "name": "cdc"
  },
  "language_info": {
   "codemirror_mode": {
    "name": "ipython",
    "version": 3
   },
   "file_extension": ".py",
   "mimetype": "text/x-python",
   "name": "python",
   "nbconvert_exporter": "python",
   "pygments_lexer": "ipython3",
   "version": "3.8.5"
  }
 },
 "nbformat": 4,
 "nbformat_minor": 4
}
