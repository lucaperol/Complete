{
 "cells": [
  {
   "cell_type": "markdown",
   "metadata": {},
   "source": [
    "[![Open In Colab](https://colab.research.google.com/assets/colab-badge.svg)](https://colab.research.google.com/github/mosleh-exeter/BEM1025/blob/main/sessions/19-Session%2009%20Functions%20in%20Pandas-practice.ipynb)"
   ]
  },
  {
   "cell_type": "markdown",
   "metadata": {},
   "source": [
    "# Session 9.1 functions-practice"
   ]
  },
  {
   "cell_type": "markdown",
   "metadata": {},
   "source": [
    "# 0. Let's load and install some libraries"
   ]
  },
  {
   "cell_type": "code",
   "execution_count": 1,
   "metadata": {},
   "outputs": [],
   "source": [
    "import pandas as pd"
   ]
  },
  {
   "cell_type": "code",
   "execution_count": 2,
   "metadata": {},
   "outputs": [],
   "source": [
    "import matplotlib.pyplot as plt"
   ]
  },
  {
   "cell_type": "code",
   "execution_count": 3,
   "metadata": {},
   "outputs": [],
   "source": [
    "import seaborn as sns"
   ]
  },
  {
   "cell_type": "markdown",
   "metadata": {},
   "source": [
    "# 1. Let's load some data"
   ]
  },
  {
   "cell_type": "code",
   "execution_count": null,
   "metadata": {},
   "outputs": [],
   "source": [
    "df=pd.read_excel('https://www.dropbox.com/s/2fijssn8w93bi0q/Superstore.xls?dl=1',dtype={'Order Date':'str'})\n",
    "df.head(2)"
   ]
  },
  {
   "cell_type": "markdown",
   "metadata": {},
   "source": [
    "#### **Note 1**:\n",
    "####    To extract some characters (letters) from a string X you can use X[i:j] where i indicates the first character and j-1 indicates the last character \n",
    "    "
   ]
  },
  {
   "cell_type": "code",
   "execution_count": 14,
   "metadata": {},
   "outputs": [
    {
     "name": "stdout",
     "output_type": "stream",
     "text": [
      "first letter: T second letter: h\n",
      "first two letters: Th or Th\n"
     ]
    }
   ],
   "source": [
    "X='This is a book'\n",
    "print ('first letter:', X[0],'second letter:', X[1])\n",
    "print ('first two letters:',X[:2],'or', X[0:2])"
   ]
  },
  {
   "cell_type": "markdown",
   "metadata": {},
   "source": [
    "#### **Note 2**:\n",
    "####    To compare two variables you can use \"A==B\" which returns True if A and B are equal and False if they are not. \n",
    "#### This is similar to write an if:"
   ]
  },
  {
   "cell_type": "code",
   "execution_count": 15,
   "metadata": {},
   "outputs": [
    {
     "name": "stdout",
     "output_type": "stream",
     "text": [
      "False\n",
      "False\n"
     ]
    }
   ],
   "source": [
    "A=2\n",
    "B=3\n",
    "C= (A==B)\n",
    "print(C)\n",
    "\n",
    "if A==B:\n",
    "    C=True\n",
    "if A!=B:\n",
    "    C=False\n",
    "print(C)"
   ]
  },
  {
   "cell_type": "markdown",
   "metadata": {},
   "source": [
    "### For each of the following tasks using pandas apply"
   ]
  },
  {
   "cell_type": "markdown",
   "metadata": {},
   "source": [
    "### **Task 1**. Create a new column in the dataset that shows 'true' if the order was made in the US, and 'false' if made in other places (e.g., Canada). Use order ID\n",
    "\n",
    "#### TIP: You need to check the first three letters of Order ID\n",
    "#### TIP: To extract some characters (letters) from a string you can use X[i:j] where i indicates the first character and j-1 indicates the last character "
   ]
  },
  {
   "cell_type": "code",
   "execution_count": null,
   "metadata": {},
   "outputs": [],
   "source": []
  },
  {
   "cell_type": "markdown",
   "metadata": {},
   "source": [
    "### **Task 2**. Create a new column that shows how many years has passed since the order was created using Order Date\n",
    "\n",
    "#### TIP: You need to extract first 4 letters/characters of Order ID. To change a string to number you can use int(X) and then find 2022-int(X)"
   ]
  },
  {
   "cell_type": "code",
   "execution_count": null,
   "metadata": {},
   "outputs": [],
   "source": []
  },
  {
   "cell_type": "markdown",
   "metadata": {
    "tags": []
   },
   "source": [
    "### **Task 3**. Create a new column that discretize the value of Sales to low: <200, mid: >=200 and <1000, high: >=1000\n",
    "#### TIP: You may need to transform the dataset to a wide dataset containing a column for Sales"
   ]
  },
  {
   "cell_type": "code",
   "execution_count": null,
   "metadata": {},
   "outputs": [],
   "source": []
  },
  {
   "cell_type": "markdown",
   "metadata": {},
   "source": [
    "### **Task 4**. Calculate profit margin per number of product sold\n",
    "#### TIP : Divide profit by sales then divide the results by quantities\n",
    "#### TIP: You may need to transform the dataset to a wide dataset containing  columns for Sales, Discount, Quantities, and Profit"
   ]
  },
  {
   "cell_type": "code",
   "execution_count": null,
   "metadata": {},
   "outputs": [],
   "source": []
  },
  {
   "cell_type": "code",
   "execution_count": null,
   "metadata": {},
   "outputs": [],
   "source": []
  }
 ],
 "metadata": {
  "kernelspec": {
   "display_name": "Python 3",
   "language": "python",
   "name": "python3"
  },
  "language_info": {
   "codemirror_mode": {
    "name": "ipython",
    "version": 3
   },
   "file_extension": ".py",
   "mimetype": "text/x-python",
   "name": "python",
   "nbconvert_exporter": "python",
   "pygments_lexer": "ipython3",
   "version": "3.8.5"
  }
 },
 "nbformat": 4,
 "nbformat_minor": 4
}
