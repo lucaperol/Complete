{
 "cells": [
  {
   "cell_type": "markdown",
   "metadata": {},
   "source": [
    "# Session 06 - Tutorial. Data Transformation in Pandas"
   ]
  },
  {
   "cell_type": "markdown",
   "metadata": {},
   "source": [
    "# 1. Let's load some libraries"
   ]
  },
  {
   "cell_type": "code",
   "execution_count": 28,
   "metadata": {},
   "outputs": [],
   "source": [
    "import pandas as pd\n",
    "import seaborn as sns"
   ]
  },
  {
   "cell_type": "markdown",
   "metadata": {},
   "source": [
    "# 2. Let's load and concatenate some datasets"
   ]
  },
  {
   "cell_type": "code",
   "execution_count": 29,
   "metadata": {},
   "outputs": [],
   "source": [
    "# similar to reading data from csv file, we can read data from excel sheets, we need to specify which column we need to read data from\n",
    "# this data is a sample from comercial software Tableau\n",
    "order_df=pd.read_csv('Superstore.csv')\n",
    "\n",
    "selected_columns=['Order ID', 'Order Date', 'Product ID','Segment', 'Region','Category','variable','value']\n",
    "\n",
    "order_df_selected=order_df[selected_columns]\n",
    "# or similarly you can do\n",
    "order_df_selected2=pd.DataFrame(order_df,columns=selected_columns)\n"
   ]
  },
  {
   "cell_type": "code",
   "execution_count": null,
   "metadata": {},
   "outputs": [],
   "source": []
  },
  {
   "cell_type": "code",
   "execution_count": 30,
   "metadata": {},
   "outputs": [
    {
     "data": {
      "text/html": [
       "<div>\n",
       "<style scoped>\n",
       "    .dataframe tbody tr th:only-of-type {\n",
       "        vertical-align: middle;\n",
       "    }\n",
       "\n",
       "    .dataframe tbody tr th {\n",
       "        vertical-align: top;\n",
       "    }\n",
       "\n",
       "    .dataframe thead th {\n",
       "        text-align: right;\n",
       "    }\n",
       "</style>\n",
       "<table border=\"1\" class=\"dataframe\">\n",
       "  <thead>\n",
       "    <tr style=\"text-align: right;\">\n",
       "      <th></th>\n",
       "      <th>Order ID</th>\n",
       "      <th>Order Date</th>\n",
       "      <th>Product ID</th>\n",
       "      <th>Segment</th>\n",
       "      <th>Region</th>\n",
       "      <th>Category</th>\n",
       "      <th>variable</th>\n",
       "      <th>value</th>\n",
       "    </tr>\n",
       "  </thead>\n",
       "  <tbody>\n",
       "    <tr>\n",
       "      <th>0</th>\n",
       "      <td>CA-2013-152156</td>\n",
       "      <td>2013-11-09 00:00:00</td>\n",
       "      <td>FUR-BO-10001798</td>\n",
       "      <td>Consumer</td>\n",
       "      <td>South</td>\n",
       "      <td>Furniture</td>\n",
       "      <td>Sales</td>\n",
       "      <td>261.9600</td>\n",
       "    </tr>\n",
       "    <tr>\n",
       "      <th>1</th>\n",
       "      <td>CA-2013-152156</td>\n",
       "      <td>2013-11-09 00:00:00</td>\n",
       "      <td>FUR-CH-10000454</td>\n",
       "      <td>Consumer</td>\n",
       "      <td>South</td>\n",
       "      <td>Furniture</td>\n",
       "      <td>Sales</td>\n",
       "      <td>731.9400</td>\n",
       "    </tr>\n",
       "    <tr>\n",
       "      <th>2</th>\n",
       "      <td>CA-2013-138688</td>\n",
       "      <td>2013-06-13 00:00:00</td>\n",
       "      <td>OFF-LA-10000240</td>\n",
       "      <td>Corporate</td>\n",
       "      <td>West</td>\n",
       "      <td>Office Supplies</td>\n",
       "      <td>Sales</td>\n",
       "      <td>14.6200</td>\n",
       "    </tr>\n",
       "    <tr>\n",
       "      <th>3</th>\n",
       "      <td>US-2012-108966</td>\n",
       "      <td>2012-10-11 00:00:00</td>\n",
       "      <td>FUR-TA-10000577</td>\n",
       "      <td>Consumer</td>\n",
       "      <td>South</td>\n",
       "      <td>Furniture</td>\n",
       "      <td>Sales</td>\n",
       "      <td>957.5775</td>\n",
       "    </tr>\n",
       "    <tr>\n",
       "      <th>4</th>\n",
       "      <td>US-2012-108966</td>\n",
       "      <td>2012-10-11 00:00:00</td>\n",
       "      <td>OFF-ST-10000760</td>\n",
       "      <td>Consumer</td>\n",
       "      <td>South</td>\n",
       "      <td>Office Supplies</td>\n",
       "      <td>Sales</td>\n",
       "      <td>22.3680</td>\n",
       "    </tr>\n",
       "  </tbody>\n",
       "</table>\n",
       "</div>"
      ],
      "text/plain": [
       "         Order ID           Order Date       Product ID    Segment Region  \\\n",
       "0  CA-2013-152156  2013-11-09 00:00:00  FUR-BO-10001798   Consumer  South   \n",
       "1  CA-2013-152156  2013-11-09 00:00:00  FUR-CH-10000454   Consumer  South   \n",
       "2  CA-2013-138688  2013-06-13 00:00:00  OFF-LA-10000240  Corporate   West   \n",
       "3  US-2012-108966  2012-10-11 00:00:00  FUR-TA-10000577   Consumer  South   \n",
       "4  US-2012-108966  2012-10-11 00:00:00  OFF-ST-10000760   Consumer  South   \n",
       "\n",
       "          Category variable     value  \n",
       "0        Furniture    Sales  261.9600  \n",
       "1        Furniture    Sales  731.9400  \n",
       "2  Office Supplies    Sales   14.6200  \n",
       "3        Furniture    Sales  957.5775  \n",
       "4  Office Supplies    Sales   22.3680  "
      ]
     },
     "execution_count": 30,
     "metadata": {},
     "output_type": "execute_result"
    }
   ],
   "source": [
    "order_df_selected.head()"
   ]
  },
  {
   "cell_type": "code",
   "execution_count": 31,
   "metadata": {},
   "outputs": [
    {
     "data": {
      "text/plain": [
       "array(['Sales', 'Quantity', 'Discount', 'Profit'], dtype=object)"
      ]
     },
     "execution_count": 31,
     "metadata": {},
     "output_type": "execute_result"
    }
   ],
   "source": [
    "order_df_selected['variable'].unique()"
   ]
  },
  {
   "cell_type": "markdown",
   "metadata": {},
   "source": [
    "### Task 1. Your manager wants a report in form of a table where you show average value of different 'variable' (\"Sales\", \"Quantity\", and \"Profit\") for each segment\n",
    "\n",
    "### Like the following table\n"
   ]
  },
  {
   "cell_type": "markdown",
   "metadata": {},
   "source": [
    "<img src=\"https://www.dropbox.com/s/5v7pb18cusx77cy/Screenshot%202022-03-04%20at%2019.26.55.png?dl=1\">\n"
   ]
  },
  {
   "cell_type": "markdown",
   "metadata": {
    "tags": []
   },
   "source": [
    "### Task 1.1 Create a dataframe where you have a column for each 'variable' namely \"Sales\", \"Quantity\", and \"Profit\"\n"
   ]
  },
  {
   "cell_type": "code",
   "execution_count": 1,
   "metadata": {},
   "outputs": [],
   "source": [
    "#we transform the data from a long format to a wide format\n",
    "\n",
    "#we then reset the index such that it starts from zero\n"
   ]
  },
  {
   "cell_type": "markdown",
   "metadata": {
    "tags": []
   },
   "source": [
    "### Task 1.2 Calculate the average value for'variable' namely \"Sales\", \"Quantity\", and \"Profit\""
   ]
  },
  {
   "cell_type": "code",
   "execution_count": null,
   "metadata": {},
   "outputs": [],
   "source": []
  },
  {
   "cell_type": "markdown",
   "metadata": {},
   "source": [
    "### Challenge yourself: Think about other approaches to create the same outcome:"
   ]
  },
  {
   "cell_type": "code",
   "execution_count": null,
   "metadata": {},
   "outputs": [],
   "source": []
  },
  {
   "cell_type": "markdown",
   "metadata": {},
   "source": [
    "### Task 2. Provide the minimum, maximum, and average for Discount for combinations of Regions and Segments"
   ]
  },
  {
   "cell_type": "markdown",
   "metadata": {},
   "source": [
    "<img src=\"https://www.dropbox.com/s/rokpmkac1qsnt05/Screenshot%202022-03-04%20at%2019.29.27.png?dl=1\">\n",
    "\n"
   ]
  },
  {
   "cell_type": "code",
   "execution_count": null,
   "metadata": {},
   "outputs": [],
   "source": []
  },
  {
   "cell_type": "markdown",
   "metadata": {},
   "source": [
    "### Task 3. Your managers needs a graph for variation of Sales and Profit over different months"
   ]
  },
  {
   "cell_type": "markdown",
   "metadata": {},
   "source": [
    "\n",
    "\n",
    "<img src=\"https://www.dropbox.com/s/j2j0bfynpnfxw3c/Screenshot%202022-03-04%20at%2019.55.50.png?dl=1\">"
   ]
  },
  {
   "cell_type": "markdown",
   "metadata": {},
   "source": [
    "### Task 3.1 Convert 'Order Date' to a datetime column"
   ]
  },
  {
   "cell_type": "code",
   "execution_count": null,
   "metadata": {},
   "outputs": [],
   "source": []
  },
  {
   "cell_type": "markdown",
   "metadata": {},
   "source": [
    "### Task 3.2 Find average value for each month for Discount"
   ]
  },
  {
   "cell_type": "code",
   "execution_count": null,
   "metadata": {},
   "outputs": [],
   "source": []
  },
  {
   "cell_type": "code",
   "execution_count": null,
   "metadata": {},
   "outputs": [],
   "source": []
  },
  {
   "cell_type": "markdown",
   "metadata": {},
   "source": [
    "### Challenge yourself: Think about other approaches to create the same outcome:"
   ]
  },
  {
   "cell_type": "code",
   "execution_count": null,
   "metadata": {},
   "outputs": [],
   "source": []
  }
 ],
 "metadata": {
  "kernelspec": {
   "display_name": "cdc",
   "language": "python",
   "name": "cdc"
  },
  "language_info": {
   "codemirror_mode": {
    "name": "ipython",
    "version": 3
   },
   "file_extension": ".py",
   "mimetype": "text/x-python",
   "name": "python",
   "nbconvert_exporter": "python",
   "pygments_lexer": "ipython3",
   "version": "3.8.5"
  }
 },
 "nbformat": 4,
 "nbformat_minor": 4
}
