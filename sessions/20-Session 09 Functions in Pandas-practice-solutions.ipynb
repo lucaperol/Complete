{
 "cells": [
  {
   "cell_type": "markdown",
   "metadata": {},
   "source": [
    "[![Open In Colab](https://colab.research.google.com/assets/colab-badge.svg)](https://colab.research.google.com/github/mosleh-exeter/BEM1025/blob/main/sessions/19-Session%2009%20Functions%20in%20Pandas-practice.ipynb)"
   ]
  },
  {
   "cell_type": "markdown",
   "metadata": {},
   "source": [
    "# Session 9.1 functions-practice"
   ]
  },
  {
   "cell_type": "markdown",
   "metadata": {},
   "source": [
    "# 0. Let's load and install some libraries"
   ]
  },
  {
   "cell_type": "code",
   "execution_count": 6,
   "metadata": {},
   "outputs": [],
   "source": [
    "import pandas as pd"
   ]
  },
  {
   "cell_type": "code",
   "execution_count": 7,
   "metadata": {},
   "outputs": [],
   "source": [
    "import matplotlib.pyplot as plt"
   ]
  },
  {
   "cell_type": "code",
   "execution_count": 8,
   "metadata": {},
   "outputs": [],
   "source": [
    "import seaborn as sns"
   ]
  },
  {
   "cell_type": "markdown",
   "metadata": {},
   "source": [
    "# 1. Let's load some data"
   ]
  },
  {
   "cell_type": "code",
   "execution_count": null,
   "metadata": {},
   "outputs": [],
   "source": [
    "# similar to reading data from csv file, we can read data from excel sheets, we need to specify which column we need to read data from\n",
    "# this data is a sample from comercial software Tableau\n",
    "df=pd.read_excel('https://www.dropbox.com/s/2fijssn8w93bi0q/Superstore.xls?dl=1',dtype={'Order Date':'str'})\n",
    "df.head(2)"
   ]
  },
  {
   "cell_type": "markdown",
   "metadata": {},
   "source": [
    "#### **Note 1**:\n",
    "####    To extract some characters (letters) from a string X you can use X[i:j] where i indicates the first character and j-1 indicates the last character "
   ]
  },
  {
   "cell_type": "code",
   "execution_count": null,
   "metadata": {},
   "outputs": [],
   "source": [
    "X='This is a book'\n",
    "print ('first letter:', X[0],'second letter:', X[1])\n",
    "print ('first two letters:',X[:2],'or', X[0:2])"
   ]
  },
  {
   "cell_type": "markdown",
   "metadata": {},
   "source": [
    "#### **Note 2**:\n",
    "####    To compare two variables you can use \"A==B\" which returns True if A and B are equal and False if they are not. \n",
    "#### This is similar to write an if:"
   ]
  },
  {
   "cell_type": "code",
   "execution_count": 15,
   "metadata": {},
   "outputs": [
    {
     "name": "stdout",
     "output_type": "stream",
     "text": [
      "False\n",
      "False\n"
     ]
    }
   ],
   "source": [
    "A=2\n",
    "B=3\n",
    "C= (A==B)\n",
    "print(C)\n",
    "\n",
    "if A==B:\n",
    "    C=True\n",
    "if A!=B:\n",
    "    C=False\n",
    "print(C)"
   ]
  },
  {
   "cell_type": "markdown",
   "metadata": {},
   "source": [
    "### For each of the following tasks using pandas apply"
   ]
  },
  {
   "cell_type": "markdown",
   "metadata": {},
   "source": [
    "### **Task 1**. Create a new column in the dataset that shows 'true' if the order was made in the US, and 'false' if made in other places (e.g., Canada). Use order ID\n",
    "\n",
    "#### TIP: You need to check the first three letters of Order ID\n",
    "#### TIP: To extract some characters (letters) from a string you can use X[i:j] where i indicates the first character and j-1 indicates the last character "
   ]
  },
  {
   "cell_type": "code",
   "execution_count": 14,
   "metadata": {},
   "outputs": [],
   "source": [
    "df['US']=df['Order ID'].apply(lambda x:x[:3]=='US-')"
   ]
  },
  {
   "cell_type": "markdown",
   "metadata": {},
   "source": [
    "### **Task 2**. Create a new column that shows how many years has passed since the order was created using Order Date\n",
    "\n",
    "#### TIP: You need to extract first 4 letters/characters of Order ID. To change a string to number you can use int(X) and then find 2022-int(X)"
   ]
  },
  {
   "cell_type": "code",
   "execution_count": 37,
   "metadata": {},
   "outputs": [],
   "source": [
    "def year_calc(x):\n",
    "    year=x[:4]\n",
    "    return 2021-int(year)\n",
    "df['order_age']=df['Order Date'].apply(year_calc)\n"
   ]
  },
  {
   "cell_type": "markdown",
   "metadata": {},
   "source": [
    "### **Task 3**. Create a new column that discretize the value of Sales to low: <200, mid: >=200 and <1000, high: >=1000\n",
    "#### TIP: You may need to transform the dataset to a wide dataset containing a column for Sales"
   ]
  },
  {
   "cell_type": "code",
   "execution_count": 12,
   "metadata": {},
   "outputs": [
    {
     "data": {
      "text/plain": [
       "<AxesSubplot:xlabel='sales_level', ylabel='count'>"
      ]
     },
     "execution_count": 12,
     "metadata": {},
     "output_type": "execute_result"
    },
    {
     "data": {
      "image/png": "[encoded data removed]",
      "text/plain": [
       "<Figure size 432x288 with 1 Axes>"
      ]
     },
     "metadata": {
      "needs_background": "light"
     },
     "output_type": "display_data"
    }
   ],
   "source": [
    "def discretize(x):\n",
    "    if x<200:\n",
    "        return 'low'\n",
    "    if x>1000:\n",
    "        return 'high'\n",
    "    return 'mid'\n",
    "\n",
    "\n",
    "df[(df['variable']=='Sales')]['value'].apply(discretize)\n",
    "df_pivoted=pd.pivot_table(df,index=['Row ID', 'Order ID', 'Order Date', 'Ship Date',\n",
    "       'Ship Mode', 'Customer ID', 'Customer Name', 'Segment', 'Country',\n",
    "       'City', 'State', 'Postal Code', 'Region', 'Product ID', 'Category',\n",
    "       'Sub-Category', 'Product Name'],\n",
    "        columns='variable',values='value')\n",
    "df_pivoted.reset_index(inplace=True)\n",
    "df_pivoted['sales_level']=df_pivoted['Sales'].apply(discretize)\n",
    "sns.countplot(data=df_pivoted,x='sales_level')"
   ]
  },
  {
   "cell_type": "markdown",
   "metadata": {},
   "source": [
    "### **Task 4**. Calculate profit margin per number of product sold\n",
    "#### TIP : Divide profit by sales then divide the results by quantities\n",
    "#### TIP: You may need to transform the dataset to a wide dataset containing  columns for Sales, Discount, Quantities, and Profit"
   ]
  },
  {
   "cell_type": "code",
   "execution_count": 13,
   "metadata": {},
   "outputs": [],
   "source": [
    "df_pivoted['profit_margin_perunit']=df_pivoted.apply(lambda row:(row['Profit']/row['Sales'])/(row['Quantity']),axis=1)"
   ]
  },
  {
   "cell_type": "code",
   "execution_count": null,
   "metadata": {},
   "outputs": [],
   "source": []
  }
 ],
 "metadata": {
  "kernelspec": {
   "display_name": "Python 3",
   "language": "python",
   "name": "python3"
  },
  "language_info": {
   "codemirror_mode": {
    "name": "ipython",
    "version": 3
   },
   "file_extension": ".py",
   "mimetype": "text/x-python",
   "name": "python",
   "nbconvert_exporter": "python",
   "pygments_lexer": "ipython3",
   "version": "3.8.5"
  }
 },
 "nbformat": 4,
 "nbformat_minor": 4
}
